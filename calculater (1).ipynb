{
 "cells": [
  {
   "cell_type": "markdown",
   "id": "eb31df79",
   "metadata": {},
   "source": [
    "NAME:VAISHALI GADEKAR"
   ]
  },
  {
   "cell_type": "markdown",
   "id": "ffab9488",
   "metadata": {},
   "source": [
    "<span style ='color:red'>CODERS READY </span>"
   ]
  },
  {
   "cell_type": "markdown",
   "id": "4b225b3d",
   "metadata": {},
   "source": [
    "# CALCULATER"
   ]
  },
  {
   "cell_type": "markdown",
   "id": "f343aad3",
   "metadata": {},
   "source": [
    "### <span style ='color:red'> Python Program to Build a Calculator using OOP </span>"
   ]
  },
  {
   "cell_type": "markdown",
   "id": "ef51ad42",
   "metadata": {},
   "source": [
    "To create a basic calculator in python we first need to create a class and define different functionalities like addition, subtraction, etc into separate methods.\n",
    "\n",
    "<span style ='color:red'>After that, we will ask the user to choose what functionality they want to execute through an input, then the user will input the required variables and the respective function will be called to compute the result.</span>\n",
    "\n",
    "Let’s try to implement it in python.\n",
    "\n",
    "<span style ='color:red'>Prerequisites:</span>\n",
    "\n",
    "functions using def in Python\n",
    "Python’s If and else\n",
    "While loop"
   ]
  },
  {
   "cell_type": "code",
   "execution_count": 5,
   "id": "395d8ff9",
   "metadata": {},
   "outputs": [
    {
     "name": "stdout",
     "output_type": "stream",
     "text": [
      "select the opration\n",
      "1.add\n",
      "2.subtract\n",
      "3.multiply\n",
      "4.divide\n",
      "5.Exit\n",
      "enter choice 1/2/3/43\n",
      "enter a number45\n",
      "enter a second number67\n",
      "45.0 X 67.0 = 3015.0\n"
     ]
    }
   ],
   "source": [
    "class Calculator:\n",
    "    def add(self,a,b):\n",
    "        return a+b\n",
    "\n",
    "\n",
    "    def subtract(self,a,b):\n",
    "        return a-b\n",
    "\n",
    "\n",
    "    def multiply(self,x,y):\n",
    "        return x*y\n",
    "\n",
    "\n",
    "    def divide(self,x,y):\n",
    "        return x/y\n",
    "    \n",
    "# create calculater object\n",
    "my_cl = Calculator()\n",
    "\n",
    "print('select the opration')\n",
    "print('1.add')\n",
    "print('2.subtract')\n",
    "print('3.multiply')\n",
    "print('4.divide')\n",
    "print('5.Exit')\n",
    "\n",
    "\n",
    "\n",
    "while True:\n",
    "    choice = input('enter choice 1/2/3/4')\n",
    "\n",
    "\n",
    "    if choice in ('1','2','3','4','5'):\n",
    "\n",
    "        if choice=='5':\n",
    "            break\n",
    "\n",
    "        num1 = float(input('enter a number'))\n",
    "        num2 = float(input('enter a second number'))\n",
    "\n",
    "\n",
    "        if choice =='1':\n",
    "            print(num1 ,'+',num2 ,'=' ,my_cl.add(num1,num2))\n",
    "\n",
    "\n",
    "\n",
    "        elif choice =='2':\n",
    "                print(num1 ,'-',num2, '=' ,my_cl.subtract(num1,num2))\n",
    "\n",
    "        elif choice =='3':\n",
    "                print(num1 ,'X',num2, '=' ,my_cl.multiply(num1,num2))\n",
    "\n",
    "\n",
    "        elif choice =='4':\n",
    "                print(num1 ,'/',num2 ,'=' ,my_cl.divide(num1,num2))\n",
    "\n",
    "        break\n",
    "\n",
    "    else:\n",
    "        print('invalild input')\n",
    "\n",
    "\n"
   ]
  },
  {
   "cell_type": "code",
   "execution_count": null,
   "id": "26eeff40",
   "metadata": {},
   "outputs": [],
   "source": []
  }
 ],
 "metadata": {
  "kernelspec": {
   "display_name": "Python 3 (ipykernel)",
   "language": "python",
   "name": "python3"
  },
  "language_info": {
   "codemirror_mode": {
    "name": "ipython",
    "version": 3
   },
   "file_extension": ".py",
   "mimetype": "text/x-python",
   "name": "python",
   "nbconvert_exporter": "python",
   "pygments_lexer": "ipython3",
   "version": "3.10.4"
  }
 },
 "nbformat": 4,
 "nbformat_minor": 5
}
